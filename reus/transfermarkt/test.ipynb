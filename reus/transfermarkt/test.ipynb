{
 "cells": [
  {
   "cell_type": "code",
   "execution_count": 20,
   "metadata": {},
   "outputs": [],
   "source": [
    "import requests\n",
    "from bs4 import BeautifulSoup\n",
    "\n",
    "\n",
    "def get_page_soup_headers(url: str, save_html: bool = False) -> BeautifulSoup:\n",
    "    \"\"\"Returns html of a given url\n",
    "\n",
    "    Args:\n",
    "        url (str): The URL to fetch the HTML from.\n",
    "        save_html (bool): Whether to save the HTML content or not.\n",
    "\n",
    "    Returns:\n",
    "        bs4: pageSoup\n",
    "    \"\"\"\n",
    "\n",
    "    USER_AGENT = \"Mozilla/5.0 (Windows NT 10.0; Win64; x64) AppleWebKit/537.36 (KHTML, like Gecko) Chrome/96.0.4664.110 Safari/537.36\"  # noqa: E501\n",
    "    headers = {\"User-Agent\": USER_AGENT}\n",
    "\n",
    "    pageTree = requests.get(url, headers=headers)\n",
    "    pageSoup = BeautifulSoup(pageTree.content, \"html.parser\")\n",
    "\n",
    "    if save_html:\n",
    "        return pageSoup, pageTree.content\n",
    "    else:\n",
    "        return pageSoup"
   ]
  },
  {
   "cell_type": "code",
   "execution_count": 6,
   "metadata": {},
   "outputs": [],
   "source": [
    "import pandas as pd\n",
    "\n",
    "club = \"Newcastle United\"\n",
    "team_id = 762\n",
    "pageSoup = None"
   ]
  },
  {
   "cell_type": "code",
   "execution_count": 7,
   "metadata": {},
   "outputs": [
    {
     "data": {
      "text/plain": [
       "('newcastle-united', 762)"
      ]
     },
     "execution_count": 7,
     "metadata": {},
     "output_type": "execute_result"
    }
   ],
   "source": [
    "def _get_team_id_and_club(team_id, club):\n",
    "    df = pd.read_csv(\n",
    "        \"https://raw.githubusercontent.com/ian-shepherd/reus_data/main/raw-data/team_translations.csv\",\n",
    "        keep_default_na=False,\n",
    "    )\n",
    "    filter_condition = (\n",
    "        (df.fbref_name == club)\n",
    "        | (df.transfermarkt_name == club)  # noqa: W503\n",
    "        | (df.transfermarkt_link == club)  # noqa: W503\n",
    "        | (df.fcpython == club)  # noqa: W503\n",
    "        | (df.fivethirtyeight == club)  # noqa: W503\n",
    "    )\n",
    "    filtered_df = df[filter_condition]\n",
    "    club = filtered_df.transfermarkt_link.iloc[0]\n",
    "    team_id = int(filtered_df.transfermarkt.iloc[0])\n",
    "\n",
    "    return club, team_id\n",
    "\n",
    "\n",
    "club, team_id = _get_team_id_and_club(team_id, club)\n",
    "club, team_id"
   ]
  },
  {
   "cell_type": "code",
   "execution_count": 92,
   "metadata": {},
   "outputs": [],
   "source": [
    "role = \"Manager\"\n",
    "# role = \"Goalkeeping Coach\"\n",
    "\n",
    "\n",
    "# TODO: order by number or alphabetical\n",
    "# TODO: check missing (Man City)\n",
    "role_dict = {\n",
    "    \"Manager\": 1,\n",
    "    \"Caretaker Manager\": 10,\n",
    "    \"Assistant Manager\": 2,\n",
    "    \"Goalkeeping Coach\": 3,\n",
    "    \"Conditioning Coach\": 11,\n",
    "    \"Fitness Coach\": 22,\n",
    "    \"Technical Coach\": 38,\n",
    "    \"Chief Analyst\": 16,\n",
    "    \"Youth Coach\": 104,\n",
    "    \"Head of Academy Coaching\": 106,\n",
    "    \"Video Analyst\": 70,\n",
    "    \"Match Analyst\": 146,\n",
    "    \"Director of Football\": 13,\n",
    "    \"Sporting Director\": 54,\n",
    "    \"Team Manager\": 55,\n",
    "    \"Academy Manager\": 67,\n",
    "    \"Chief Executive Officer\": 25,\n",
    "    \"Advisor of management\": 102,\n",
    "    \"Director\": 188,\n",
    "    \"Chairman\": 28,\n",
    "    \"Board Member\": 39,\n",
    "    \"Owner\": 105,\n",
    "    \"Chief Scout\": 53,\n",
    "    \"Head of Scouting\": 90,\n",
    "    \"Scout\": 7,\n",
    "    \"Youth Chief Scout\": 167,\n",
    "    \"Youth Scout\": 166,\n",
    "    \"Head of Youth Scouting\": 140,\n",
    "    \"Head of Medical\": 46,\n",
    "    \"Club Doctor\": 19,\n",
    "    \"Physiotherapist\": 12,\n",
    "    \"Sports Scientist\": 71,\n",
    "    \"Masseur\": 45,\n",
    "    \"Medical Director Physiotherapy\": 180,\n",
    "    \"Marketing Staff\": 44,\n",
    "    \"Media Officer\": 92,\n",
    "    \"Media worker\": 131,\n",
    "    \"Sponsoring\": 56,\n",
    "    \"Head of Media and Communication\": 179,\n",
    "    \"Photographer\": 151,\n",
    "    \"Kit Manager\": 20,\n",
    "    \"Club representative\": 149,\n",
    "    \"Director of Finance\": 81,\n",
    "    \"Advisor\": 118,\n",
    "    \"Loan Player Manager\": 158,\n",
    "    \"President\": 17,\n",
    "    \"Vice-President\": 27,\n",
    "    \"Vice-Chairman\": 28,\n",
    "    \"Member of administrative board\": 59,\n",
    "    \"Marketing/Management\": 83,\n",
    "    \"Director of Marketing and Sales\": 57,\n",
    "    \"Honorary President\": 86,\n",
    "    \"Nutritionist\": 130,\n",
    "    \"Academy Staff\": 139,\n",
    "    \"Chief Instructor\": 127,\n",
    "    \"Development Coach\": 187,\n",
    "    \"Academy Goalkeeping cooridnator\": 144,\n",
    "    \"Goalkeeping Co-oridnator\": 65,\n",
    "}"
   ]
  },
  {
   "cell_type": "code",
   "execution_count": 93,
   "metadata": {},
   "outputs": [
    {
     "data": {
      "text/plain": [
       "'https://www.transfermarkt.com/newcastle-united/mitarbeiterhistorie/verein/762/personalie_id/1'"
      ]
     },
     "execution_count": 93,
     "metadata": {},
     "output_type": "execute_result"
    }
   ],
   "source": [
    "url = f\"https://www.transfermarkt.com/{club}/mitarbeiterhistorie/verein/{team_id}/personalie_id/{role_dict[role]}\"\n",
    "url"
   ]
  },
  {
   "cell_type": "code",
   "execution_count": 94,
   "metadata": {},
   "outputs": [],
   "source": [
    "pageSoup = get_page_soup_headers(url)"
   ]
  },
  {
   "cell_type": "code",
   "execution_count": 95,
   "metadata": {},
   "outputs": [],
   "source": [
    "# find table\n",
    "table = pageSoup.find_all(\"table\")[1]\n",
    "tbody = table.find(\"tbody\")\n",
    "\n",
    "# Find rows\n",
    "rows = tbody.find_all(\"tr\")"
   ]
  },
  {
   "cell_type": "code",
   "execution_count": 96,
   "metadata": {},
   "outputs": [
    {
     "name": "stdout",
     "output_type": "stream",
     "text": [
      "{'name': 'Eddie Howe', 'url': '/eddie-howe/profil/trainer/10976', 'dob': 'Nov 29, 1977', 'nation': 'England', 'appointed': 'Nov 8, 2021', 'left': '-', 'time_in_post': '769 days\\xa0', 'matches': '99', 'ppg': '1.75'}\n",
      "{'name': 'Steve Bruce', 'url': '/steve-bruce/profil/trainer/447', 'dob': 'Dec 31, 1960', 'nation': 'England', 'appointed': 'Jul 17, 2019', 'left': 'Oct 20, 2021', 'time_in_post': '826 days\\xa0', 'matches': '97', 'ppg': '1.15'}\n",
      "{'name': 'Rafael Benítez', 'url': '/rafael-benitez/profil/trainer/1522', 'dob': 'Apr 16, 1960', 'nation': 'Spain', 'appointed': 'Mar 11, 2016', 'left': 'Jun 30, 2019', 'time_in_post': '1206 days\\xa0', 'matches': '146', 'ppg': '1.48'}\n",
      "{'name': 'Steve McClaren', 'url': '/steve-mcclaren/profil/trainer/458', 'dob': 'May 3, 1961', 'nation': 'England', 'appointed': 'Jun 10, 2015', 'left': 'Mar 11, 2016', 'time_in_post': '275 days\\xa0', 'matches': '31', 'ppg': '0.87'}\n",
      "{'name': 'John Carver', 'url': '/john-carver/profil/trainer/3660', 'dob': 'Jan 16, 1965', 'nation': 'England', 'appointed': 'Dec 31, 2014', 'left': 'Jun 9, 2015', 'time_in_post': '160 days\\xa0', 'matches': '20', 'ppg': '0.65'}\n",
      "{'name': 'Alan Pardew', 'url': '/alan-pardew/profil/trainer/1988', 'dob': 'Jul 18, 1961', 'nation': 'England', 'appointed': 'Dec 9, 2010', 'left': 'Jan 2, 2015', 'time_in_post': '1485 days\\xa0', 'matches': '184', 'ppg': '1.38'}\n",
      "{'name': 'Chris Hughton', 'url': '/chris-hughton/profil/trainer/2654', 'dob': 'Dec 11, 1958', 'nation': 'Ireland', 'appointed': 'Jul 1, 2009', 'left': 'Dec 6, 2010', 'time_in_post': '523 days\\xa0', 'matches': '70', 'ppg': '1.91'}\n",
      "{'name': 'Joe Kinnear', 'url': '/joe-kinnear/profil/trainer/1941', 'dob': 'Dec 27, 1946', 'nation': 'Ireland', 'appointed': 'Sep 26, 2008', 'left': 'Feb 11, 2009', 'time_in_post': '138 days\\xa0', 'matches': '21', 'ppg': '1.00'}\n",
      "{'name': 'Kevin Keegan', 'url': '/kevin-keegan/profil/trainer/453', 'dob': 'Feb 14, 1951', 'nation': 'England', 'appointed': 'Jan 16, 2008', 'left': 'Sep 4, 2008', 'time_in_post': '232 days\\xa0', 'matches': '21', 'ppg': '1.14'}\n",
      "{'name': 'Sam Allardyce', 'url': '/sam-allardyce/profil/trainer/445', 'dob': 'Oct 19, 1954', 'nation': 'England', 'appointed': 'May 15, 2007', 'left': 'Jan 9, 2008', 'time_in_post': '239 days\\xa0', 'matches': '24', 'ppg': '1.25'}\n",
      "{'name': 'Glenn Roeder', 'url': '/glenn-roeder/profil/trainer/2853', 'dob': 'Dec 13, 1955', 'nation': 'England', 'appointed': 'Feb 2, 2006', 'left': 'May 6, 2007', 'time_in_post': '458 days\\xa0', 'matches': '73', 'ppg': '1.60'}\n",
      "{'name': 'Graeme Souness', 'url': '/graeme-souness/profil/trainer/449', 'dob': 'May 6, 1953', 'nation': 'Scotland', 'appointed': 'Sep 7, 2004', 'left': 'Feb 2, 2006', 'time_in_post': '513 days\\xa0', 'matches': '84', 'ppg': '1.54'}\n",
      "{'name': 'Sir Bobby Robson', 'url': '/sir-bobby-robson/profil/trainer/461', 'dob': 'Feb 18, 1933', 'nation': 'England', 'appointed': 'Sep 1, 1999', 'left': 'Aug 29, 2004', 'time_in_post': '1824 days\\xa0', 'matches': '255', 'ppg': '1.65'}\n",
      "{'name': 'Ruud Gullit', 'url': '/ruud-gullit/profil/trainer/1273', 'dob': 'Sep 1, 1962', 'nation': 'Netherlands', 'appointed': 'Jul 1, 1998', 'left': 'Aug 28, 1999', 'time_in_post': '423 days\\xa0', 'matches': '53', 'ppg': '1.28'}\n",
      "{'name': 'Sir Kenny Dalglish', 'url': '/sir-kenny-dalglish/profil/trainer/12320', 'dob': 'Mar 4, 1951', 'nation': 'Scotland', 'appointed': 'Jan 14, 1997', 'left': 'Aug 25, 1998', 'time_in_post': '588 days\\xa0', 'matches': '77', 'ppg': '1.44'}\n",
      "{'name': 'Kevin Keegan', 'url': '/kevin-keegan/profil/trainer/453', 'dob': 'Feb 14, 1951', 'nation': 'England', 'appointed': 'Feb 5, 1992', 'left': 'Jan 8, 1997', 'time_in_post': '1799 days\\xa0', 'matches': '251', 'ppg': '1.84'}\n",
      "{'name': 'Osvaldo Ardiles', 'url': '/osvaldo-ardiles/profil/trainer/5493', 'dob': 'Aug 3, 1952', 'nation': 'Argentina', 'appointed': 'Mar 26, 1991', 'left': 'Feb 5, 1992', 'time_in_post': '316 days\\xa0', 'matches': '46', 'ppg': '1.02'}\n",
      "{'name': 'Jim Smith', 'url': '/jim-smith/profil/trainer/1708', 'dob': 'Oct 17, 1940', 'nation': 'England', 'appointed': 'Dec 4, 1988', 'left': 'Mar 26, 1991', 'time_in_post': '842 days\\xa0', 'matches': '119', 'ppg': '1.42'}\n",
      "{'name': 'Willie McFaul', 'url': '/willie-mcfaul/profil/trainer/51005', 'dob': 'Oct 1, 1943', 'nation': 'Northern Ireland', 'appointed': 'Aug 12, 1985', 'left': 'Oct 10, 1988', 'time_in_post': '1155 days\\xa0', 'matches': '147', 'ppg': '1.30'}\n",
      "{'name': 'Jack Charlton', 'url': '/jack-charlton/profil/trainer/9282', 'dob': 'May 8, 1935', 'nation': 'England', 'appointed': 'Aug 14, 1984', 'left': 'Aug 10, 1985', 'time_in_post': '361 days\\xa0', 'matches': '48', 'ppg': '1.25'}\n",
      "{'name': 'Arthur Cox', 'url': '/arthur-cox/profil/trainer/40440', 'dob': 'Dec 14, 1939', 'nation': 'England', 'appointed': 'Sep 5, 1980', 'left': 'May 24, 1984', 'time_in_post': '1357 days\\xa0', 'matches': '179', 'ppg': '1.53'}\n",
      "{'name': 'Bill McGarry', 'url': '/bill-mcgarry/profil/trainer/26062', 'dob': 'Jun 10, 1927', 'nation': 'England', 'appointed': 'Nov 18, 1977', 'left': 'Aug 28, 1980', 'time_in_post': '1014 days\\xa0', 'matches': '126', 'ppg': '1.21'}\n",
      "{'name': 'Richard Dinnis', 'url': '/richard-dinnis/profil/trainer/52796', 'dob': 'Dec 11, 1942', 'nation': 'England', 'appointed': 'Feb 2, 1977', 'left': 'Nov 9, 1977', 'time_in_post': '280 days\\xa0', 'matches': '39', 'ppg': '1.15'}\n",
      "{'name': 'Gordon Lee', 'url': '/gordon-lee/profil/trainer/41110', 'dob': 'Jul 13, 1934', 'nation': 'England', 'appointed': 'Jun 12, 1975', 'left': 'Jan 30, 1977', 'time_in_post': '598 days\\xa0', 'matches': '84', 'ppg': '1.50'}\n",
      "{'name': 'Joe Harvey', 'url': '/joe-harvey/profil/trainer/51239', 'dob': 'Jun 11, 1918', 'nation': 'England', 'appointed': 'Jul 1, 1962', 'left': 'Jun 30, 1975', 'time_in_post': '4747 days\\xa0', 'matches': '625', 'ppg': '1.40'}\n",
      "{'name': 'Norman Smith', 'url': '/norman-smith/profil/trainer/75625', 'dob': 'Dec 15, 1897', 'nation': 'England', 'appointed': 'Oct 1, 1961', 'left': 'Jun 30, 1962', 'time_in_post': '272 days\\xa0', 'matches': '35', 'ppg': '1.26'}\n",
      "{'name': 'Charlie Mitten', 'url': '/charlie-mitten/profil/trainer/75624', 'dob': 'Jan 17, 1921', 'nation': 'England', 'appointed': 'Jul 1, 1958', 'left': 'Oct 18, 1961', 'time_in_post': '1205 days\\xa0', 'matches': '144', 'ppg': '1.29'}\n",
      "{'name': 'Stan Seymour', 'url': '/stan-seymour/profil/trainer/75622', 'dob': 'May 16, 1895', 'nation': 'England', 'appointed': 'Jan 1, 1956', 'left': 'Jun 30, 1958', 'time_in_post': '911 days\\xa0', 'matches': '89', 'ppg': '1.13'}\n",
      "{'name': 'Dug Livingstone', 'url': '/dug-livingstone/profil/trainer/23535', 'dob': 'Feb 25, 1898', 'nation': 'Scotland', 'appointed': 'Jul 1, 1954', 'left': 'Jun 30, 1956', 'time_in_post': '730 days\\xa0', 'matches': '99', 'ppg': '1.51'}\n",
      "{'name': 'Stan Seymour', 'url': '/stan-seymour/profil/trainer/75622', 'dob': 'May 16, 1895', 'nation': 'England', 'appointed': 'Dec 1, 1950', 'left': 'Dec 31, 1954', 'time_in_post': '1491 days\\xa0', 'matches': '173', 'ppg': '1.43'}\n",
      "{'name': 'George Martin', 'url': '/george-martin/profil/trainer/75623', 'dob': 'Jul 14, 1899', 'nation': 'Scotland', 'appointed': 'May 1, 1947', 'left': 'Nov 30, 1950', 'time_in_post': '1309 days\\xa0', 'matches': '155', 'ppg': '1.73'}\n",
      "{'name': 'Stan Seymour', 'url': '/stan-seymour/profil/trainer/75622', 'dob': 'May 16, 1895', 'nation': 'England', 'appointed': 'Sep 1, 1939', 'left': 'Apr 30, 1947', 'time_in_post': '2798 days\\xa0', 'matches': '44', 'ppg': '1.70'}\n",
      "{'name': 'Tom Mather', 'url': '/tom-mather/profil/trainer/102374', 'dob': 'Apr 18, 1888', 'nation': 'England', 'appointed': 'Jul 1, 1935', 'left': 'Aug 31, 1939', 'time_in_post': '1522 days\\xa0', 'matches': '179', 'ppg': '1.49'}\n",
      "{'name': 'Andy Cunningham', 'url': '/andy-cunningham/profil/trainer/102375', 'dob': 'Jan 31, 1891', 'nation': 'Scotland', 'appointed': 'Jan 9, 1930', 'left': 'Jun 30, 1935', 'time_in_post': '1998 days\\xa0', 'matches': '30', 'ppg': '1.77'}\n",
      "{'name': 'Frank Watt', 'url': '/frank-watt/profil/trainer/93888', 'dob': '-', 'nation': 'Scotland', 'appointed': 'Aug 1, 1895', 'left': 'Jan 1, 1930', 'time_in_post': '12571 days\\xa0', 'matches': '2', 'ppg': '3.00'}\n"
     ]
    }
   ],
   "source": [
    "# Generate empty list\n",
    "mylist = []\n",
    "\n",
    "# iterate through each row\n",
    "for row in rows:\n",
    "    # check if valid row\n",
    "    try:\n",
    "        row[\"class\"] not in [\"odd\", \"even\"]\n",
    "    except KeyError:\n",
    "        continue\n",
    "\n",
    "    # Store attributes\n",
    "    name = row.find(\"img\")[\"alt\"]\n",
    "    url = row.find(\"a\")[\"href\"]\n",
    "\n",
    "    dob = row.find(\"td\").find_all(\"td\")[2].text\n",
    "    cells = row.find_all(\"td\", {\"class\": \"zentriert\"})\n",
    "\n",
    "    # Error handling for no nation\n",
    "    try:\n",
    "        nation = cells[0].find(\"img\")[\"alt\"]\n",
    "    except TypeError:\n",
    "        nation = None\n",
    "\n",
    "    appointed = cells[1].text\n",
    "    left = cells[2].text\n",
    "    time_in_post = row.find(\"td\", {\"class\": \"rechts\"}).text\n",
    "\n",
    "    # Error handling for non managers\n",
    "    try:\n",
    "        matches = cells[3].text\n",
    "    except IndexError:\n",
    "        matches = None\n",
    "    try:\n",
    "        ppg = cells[4].text\n",
    "    except IndexError:\n",
    "        ppg = None\n",
    "\n",
    "    # Generate dictionary for each staff member\n",
    "    mydict = {\n",
    "        \"name\": name,\n",
    "        \"url\": url,\n",
    "        \"dob\": dob,\n",
    "        \"nation\": nation,\n",
    "        \"appointed\": appointed,\n",
    "        \"left\": left,\n",
    "        \"time_in_post\": time_in_post,\n",
    "        \"matches\": matches,\n",
    "        \"ppg\": ppg,\n",
    "    }\n",
    "\n",
    "    # Append dictionary to list\n",
    "    mylist.append(mydict)"
   ]
  },
  {
   "cell_type": "code",
   "execution_count": null,
   "metadata": {},
   "outputs": [],
   "source": []
  }
 ],
 "metadata": {
  "kernelspec": {
   "display_name": "env",
   "language": "python",
   "name": "python3"
  },
  "language_info": {
   "codemirror_mode": {
    "name": "ipython",
    "version": 3
   },
   "file_extension": ".py",
   "mimetype": "text/x-python",
   "name": "python",
   "nbconvert_exporter": "python",
   "pygments_lexer": "ipython3",
   "version": "3.10.10"
  },
  "orig_nbformat": 4
 },
 "nbformat": 4,
 "nbformat_minor": 2
}
